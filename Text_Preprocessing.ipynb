{
  "nbformat": 4,
  "nbformat_minor": 0,
  "metadata": {
    "colab": {
      "provenance": [],
      "authorship_tag": "ABX9TyMd9DGv7fbwofJTJv9fzhyN",
      "include_colab_link": true
    },
    "kernelspec": {
      "name": "python3",
      "display_name": "Python 3"
    },
    "language_info": {
      "name": "python"
    }
  },
  "cells": [
    {
      "cell_type": "markdown",
      "metadata": {
        "id": "view-in-github",
        "colab_type": "text"
      },
      "source": [
        "<a href=\"https://colab.research.google.com/github/raisaksh1/NLP/blob/main/Text_Preprocessing.ipynb\" target=\"_parent\"><img src=\"https://colab.research.google.com/assets/colab-badge.svg\" alt=\"Open In Colab\"/></a>"
      ]
    },
    {
      "cell_type": "markdown",
      "source": [
        "Text Preprocessing techniques\n",
        "1. Cleaning\n",
        "\n",
        " i. Tag cleaning"
      ],
      "metadata": {
        "id": "8U8oj3LK0dSr"
      }
    },
    {
      "cell_type": "code",
      "execution_count": 2,
      "metadata": {
        "id": "LLJVZXcKrIRP"
      },
      "outputs": [],
      "source": [
        "sample_data = '<h2>Contains element describing the documents</h2>'"
      ]
    },
    {
      "cell_type": "code",
      "source": [
        "sample_data"
      ],
      "metadata": {
        "colab": {
          "base_uri": "https://localhost:8080/",
          "height": 35
        },
        "id": "ZZIzop4z19yn",
        "outputId": "1cbe9f97-0733-4658-93e5-a0bc88313b0a"
      },
      "execution_count": 3,
      "outputs": [
        {
          "output_type": "execute_result",
          "data": {
            "text/plain": [
              "'<h2>Contains element describing the documents</h2>'"
            ],
            "application/vnd.google.colaboratory.intrinsic+json": {
              "type": "string"
            }
          },
          "metadata": {},
          "execution_count": 3
        }
      ]
    },
    {
      "cell_type": "code",
      "source": [
        "import re\n",
        "def striphtml(data):\n",
        "  p = re.compile(r'<.*?>')\n",
        "  return p.sub('', data)"
      ],
      "metadata": {
        "id": "VsJr9O8p1_qq"
      },
      "execution_count": 7,
      "outputs": []
    },
    {
      "cell_type": "code",
      "source": [
        "striphtml(sample_data)"
      ],
      "metadata": {
        "colab": {
          "base_uri": "https://localhost:8080/",
          "height": 35
        },
        "id": "RihfYxsA2f7e",
        "outputId": "67993831-e0c1-49fc-e794-21ceee0e480e"
      },
      "execution_count": 8,
      "outputs": [
        {
          "output_type": "execute_result",
          "data": {
            "text/plain": [
              "'Contains element describing the documents'"
            ],
            "application/vnd.google.colaboratory.intrinsic+json": {
              "type": "string"
            }
          },
          "metadata": {},
          "execution_count": 8
        }
      ]
    },
    {
      "cell_type": "markdown",
      "source": [
        " ii. Unicode Normalization\n",
        " (Where you can convert emoji's to the text)"
      ],
      "metadata": {
        "id": "HigBOeRZ3H4q"
      }
    },
    {
      "cell_type": "code",
      "source": [
        "emoji_text = 'Business: Hi Jane, I am so sorry to hear this. 😯 Please tell me how I can help.'"
      ],
      "metadata": {
        "id": "C9WovMnA2kAe"
      },
      "execution_count": 9,
      "outputs": []
    },
    {
      "cell_type": "code",
      "source": [
        "emoji_text"
      ],
      "metadata": {
        "colab": {
          "base_uri": "https://localhost:8080/",
          "height": 35
        },
        "id": "cQoR2EHa36NM",
        "outputId": "9cc47980-c86b-448e-e183-d81a921fb215"
      },
      "execution_count": 10,
      "outputs": [
        {
          "output_type": "execute_result",
          "data": {
            "text/plain": [
              "'Business: Hi Jane, I am so sorry to hear this. 😯 Please tell me how I can help.'"
            ],
            "application/vnd.google.colaboratory.intrinsic+json": {
              "type": "string"
            }
          },
          "metadata": {},
          "execution_count": 10
        }
      ]
    },
    {
      "cell_type": "code",
      "source": [
        "emoji_text.encode('utf-8')"
      ],
      "metadata": {
        "colab": {
          "base_uri": "https://localhost:8080/"
        },
        "id": "KgtQTNor37mL",
        "outputId": "adbc55a6-40ed-4e4c-9efa-208c2781ebdc"
      },
      "execution_count": 11,
      "outputs": [
        {
          "output_type": "execute_result",
          "data": {
            "text/plain": [
              "b'Business: Hi Jane, I am so sorry to hear this. \\xf0\\x9f\\x98\\xaf Please tell me how I can help.'"
            ]
          },
          "metadata": {},
          "execution_count": 11
        }
      ]
    },
    {
      "cell_type": "markdown",
      "source": [
        "iii. Spelling Check"
      ],
      "metadata": {
        "id": "k1rDCOYq4Uja"
      }
    },
    {
      "cell_type": "code",
      "source": [
        "incorrect_text = 'certaiin conditions durring seveal genration are modfied in same manar'"
      ],
      "metadata": {
        "id": "qhDFGgjg4EJG"
      },
      "execution_count": 14,
      "outputs": []
    },
    {
      "cell_type": "code",
      "source": [
        "from textblob import TextBlob\n",
        "textblb = TextBlob(incorrect_text)\n",
        "textblb.correct()"
      ],
      "metadata": {
        "colab": {
          "base_uri": "https://localhost:8080/"
        },
        "id": "T6uZ4Lqt46P4",
        "outputId": "6d6bacbe-afb8-4a75-ae64-9311384d1d25"
      },
      "execution_count": 15,
      "outputs": [
        {
          "output_type": "execute_result",
          "data": {
            "text/plain": [
              "TextBlob(\"certain conditions during several generation are modified in same makar\")"
            ]
          },
          "metadata": {},
          "execution_count": 15
        }
      ]
    },
    {
      "cell_type": "code",
      "source": [
        "dummy = 'Odds are this was the first overtly Feminist text you ever read, at least if you’re of a certain age; it’s become a stand-in for the idea of women being driven insane by the patriarchy—and being ignored by doctors, who deem them “hysterical.” This is another one with lots of adaptations to its name, including a memorable episode of The Twilight Zone, which concludes: “Next time you’re alone, look quickly at the wallpaper, and the ceiling, and the cracks on the sidewalk. Look for the patterns and lines and faces on the wall. Look, if you can, for Sharon Miles, visible only out of the corner of your eye or… in the Twilight Zone.”'"
      ],
      "metadata": {
        "id": "972JnsvP5UGA"
      },
      "execution_count": 16,
      "outputs": []
    },
    {
      "cell_type": "code",
      "source": [
        "dummy"
      ],
      "metadata": {
        "colab": {
          "base_uri": "https://localhost:8080/",
          "height": 157
        },
        "id": "4oNWEGt66jkE",
        "outputId": "6a7398a7-7e57-4b69-a6a3-6e2880bd3edc"
      },
      "execution_count": 17,
      "outputs": [
        {
          "output_type": "execute_result",
          "data": {
            "text/plain": [
              "'Odds are this was the first overtly Feminist text you ever read, at least if you’re of a certain age; it’s become a stand-in for the idea of women being driven insane by the patriarchy—and being ignored by doctors, who deem them “hysterical.” This is another one with lots of adaptations to its name, including a memorable episode of The Twilight Zone, which concludes: “Next time you’re alone, look quickly at the wallpaper, and the ceiling, and the cracks on the sidewalk. Look for the patterns and lines and faces on the wall. Look, if you can, for Sharon Miles, visible only out of the corner of your eye or… in the Twilight Zone.”'"
            ],
            "application/vnd.google.colaboratory.intrinsic+json": {
              "type": "string"
            }
          },
          "metadata": {},
          "execution_count": 17
        }
      ]
    },
    {
      "cell_type": "code",
      "source": [
        "import nltk\n",
        "nltk.download('punkt')\n",
        "from nltk.tokenize import sent_tokenize, word_tokenize"
      ],
      "metadata": {
        "colab": {
          "base_uri": "https://localhost:8080/"
        },
        "id": "7xK7iKxV6mSZ",
        "outputId": "4fb227fe-f2e7-4f19-b8ca-566ba154c082"
      },
      "execution_count": 23,
      "outputs": [
        {
          "output_type": "stream",
          "name": "stderr",
          "text": [
            "[nltk_data] Downloading package punkt to /root/nltk_data...\n",
            "[nltk_data]   Unzipping tokenizers/punkt.zip.\n"
          ]
        }
      ]
    },
    {
      "cell_type": "code",
      "source": [
        "sents = nltk.sent_tokenize(dummy)\n",
        "sents"
      ],
      "metadata": {
        "colab": {
          "base_uri": "https://localhost:8080/"
        },
        "id": "E8efnK_r6z67",
        "outputId": "6010cce6-56dc-4690-8267-182c2d4fea63"
      },
      "execution_count": 25,
      "outputs": [
        {
          "output_type": "execute_result",
          "data": {
            "text/plain": [
              "['Odds are this was the first overtly Feminist text you ever read, at least if you’re of a certain age; it’s become a stand-in for the idea of women being driven insane by the patriarchy—and being ignored by doctors, who deem them “hysterical.” This is another one with lots of adaptations to its name, including a memorable episode of The Twilight Zone, which concludes: “Next time you’re alone, look quickly at the wallpaper, and the ceiling, and the cracks on the sidewalk.',\n",
              " 'Look for the patterns and lines and faces on the wall.',\n",
              " 'Look, if you can, for Sharon Miles, visible only out of the corner of your eye or… in the Twilight Zone.”']"
            ]
          },
          "metadata": {},
          "execution_count": 25
        }
      ]
    },
    {
      "cell_type": "code",
      "source": [
        "for sent in sents:\n",
        "  print(word_tokenize(sent))"
      ],
      "metadata": {
        "colab": {
          "base_uri": "https://localhost:8080/"
        },
        "id": "-0US4QA_6-R_",
        "outputId": "45d9db85-edab-49c8-b756-18e1ebebb800"
      },
      "execution_count": 27,
      "outputs": [
        {
          "output_type": "stream",
          "name": "stdout",
          "text": [
            "['Odds', 'are', 'this', 'was', 'the', 'first', 'overtly', 'Feminist', 'text', 'you', 'ever', 'read', ',', 'at', 'least', 'if', 'you', '’', 're', 'of', 'a', 'certain', 'age', ';', 'it', '’', 's', 'become', 'a', 'stand-in', 'for', 'the', 'idea', 'of', 'women', 'being', 'driven', 'insane', 'by', 'the', 'patriarchy—and', 'being', 'ignored', 'by', 'doctors', ',', 'who', 'deem', 'them', '“', 'hysterical.', '”', 'This', 'is', 'another', 'one', 'with', 'lots', 'of', 'adaptations', 'to', 'its', 'name', ',', 'including', 'a', 'memorable', 'episode', 'of', 'The', 'Twilight', 'Zone', ',', 'which', 'concludes', ':', '“', 'Next', 'time', 'you', '’', 're', 'alone', ',', 'look', 'quickly', 'at', 'the', 'wallpaper', ',', 'and', 'the', 'ceiling', ',', 'and', 'the', 'cracks', 'on', 'the', 'sidewalk', '.']\n",
            "['Look', 'for', 'the', 'patterns', 'and', 'lines', 'and', 'faces', 'on', 'the', 'wall', '.']\n",
            "['Look', ',', 'if', 'you', 'can', ',', 'for', 'Sharon', 'Miles', ',', 'visible', 'only', 'out', 'of', 'the', 'corner', 'of', 'your', 'eye', 'or…', 'in', 'the', 'Twilight', 'Zone', '.', '”']\n"
          ]
        }
      ]
    },
    {
      "cell_type": "code",
      "source": [],
      "metadata": {
        "id": "P__I7LfR-PzH"
      },
      "execution_count": null,
      "outputs": []
    }
  ]
}